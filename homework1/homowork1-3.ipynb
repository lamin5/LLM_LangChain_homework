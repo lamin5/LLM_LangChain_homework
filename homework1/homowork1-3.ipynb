{
 "cells": [
  {
   "cell_type": "code",
   "execution_count": 1,
   "id": "c81acca6",
   "metadata": {},
   "outputs": [],
   "source": [
    "import os\n",
    "from dotenv import load_dotenv\n",
    "from langchain_core.prompts import ChatPromptTemplate, FewShotChatMessagePromptTemplate\n",
    "from langchain_openai import ChatOpenAI\n",
    "\n",
    "load_dotenv()\n",
    "OPENAI_API_KEY = os.getenv(\"OPENAI_API_KEY\")"
   ]
  },
  {
   "cell_type": "code",
   "execution_count": 5,
   "id": "686bcab4",
   "metadata": {},
   "outputs": [
    {
     "name": "stdout",
     "output_type": "stream",
     "text": [
      "구글, 제미나이, AI\n"
     ]
    }
   ],
   "source": [
    "examples = [\n",
    "    {\n",
    "        \"news\": \"삼성전자가 내년 초에 자체적으로 개발한 인공지능(AI) 가속기를 처음으로 출시할 예정이다. 이는 AI 반도체 시장에서 지배적인 위치를 차지하고 있는 엔비디아의 독점을 도전하고, 세계 최고의 반도체 제조업체로서의 지위를 다시 확립하려는 삼성전자의 노력으로 해석된다.\",\n",
    "        \"keywords\": \"삼성전자, 인공지능, 엔비디아\",\n",
    "    },\n",
    "    {\n",
    "        \"news\": \"세계보건기구(WHO)는 최근 새로운 건강 위기에 대응하기 위해 국제 협력의 중요성을 강조했다. 전염병 대응 역량의 강화와 글로벌 보건 시스템의 개선이 필요하다고 발표했다.\",\n",
    "        \"keywords\": \"세계보건기구, 건강위기, 국제협력\",\n",
    "    },\n",
    "    {\n",
    "        \"news\": \"유엔(UN)은 기후 변화 대응을 위해 각국 정부가 온실가스 감축 목표를 강화해야 한다고 촉구했다. 특히 기후 재난의 빈도와 강도가 증가함에 따라 국제적인 공조와 정책 협력이 더욱 절실하다고 강조했다.\",\n",
    "        \"keywords\": \"유엔, 기후변화, 국제협력\",\n",
    "    },\n",
    "]\n",
    "\n",
    "# 예제 프롬프트 템플릿\n",
    "\n",
    "example_prompt = ChatPromptTemplate.from_messages(\n",
    "    [\n",
    "        (\"human\", \"{news}\"),\n",
    "        (\"ai\", \"{keywords}\"),\n",
    "    ]\n",
    ")\n",
    "\n",
    "\n",
    "# FewShotChatMessagePromptTemplate 적용\n",
    "\n",
    "few_shot_prompt = FewShotChatMessagePromptTemplate(\n",
    "    example_prompt=example_prompt,\n",
    "    examples=examples,\n",
    ")\n",
    "\n",
    "\n",
    "# 최종 프롬프트 구성\n",
    "\n",
    "final_prompt = ChatPromptTemplate.from_messages(\n",
    "    [\n",
    "        (\n",
    "            \"system\",\n",
    "            \"뉴스 키워드를 추출 해야합니다. 핵심 키워드 3개를 추출하세요.\",\n",
    "        ),\n",
    "        few_shot_prompt,\n",
    "        (\"human\", \"{news}\"),\n",
    "    ]\n",
    ")\n",
    "\n",
    "\n",
    "# 모델 생성 및 체인 구성\n",
    "\n",
    "# model = ChatOpenAI(model=\"gpt-4o-mini\", temperature=0.0)\n",
    "\n",
    "model = ChatOpenAI(\n",
    "\n",
    "    # api_key=OPENAI_API_KEY,\n",
    "\n",
    "    base_url=\"https://api.groq.com/openai/v1\",  # Groq API 엔드포인트\n",
    "\n",
    "    model=\"meta-llama/llama-4-scout-17b-16e-instruct\",\n",
    "\n",
    "    temperature=0.7,\n",
    "\n",
    ")\n",
    "\n",
    "chain = final_prompt | model\n",
    "\n",
    "\n",
    "# 테스트 실행\n",
    "\n",
    "result = chain.invoke({\"news\": \"제미나이 2.0 플래시는 현재 구글 AI 스튜디오(Google AI Studio) 및 버텍스 AI(Vertex AI)에서 제미나이 API를 통해 개발자에게 실험 모델로 제공됩니다. 모든 개발자는 멀티모달 입력 및 텍스트 출력을 사용할 수 있으며, 텍스트 음성 변환(text-to-speech) 및 네이티브 이미지 생성은 일부 파트너들을 대상으로 제공됩니다. 내년 1월에는 더 많은 모델 사이즈와 함께 일반에 공개될 예정입니다.\"})\n",
    "\n",
    "# result = chain.invoke({\"input\": \"양자 얽힘이 무엇인가요?\"})\n",
    "\n",
    "print(result.content)"
   ]
  }
 ],
 "metadata": {
  "kernelspec": {
   "display_name": "langchain-homework-EkbqySkC-py3.12",
   "language": "python",
   "name": "python3"
  },
  "language_info": {
   "codemirror_mode": {
    "name": "ipython",
    "version": 3
   },
   "file_extension": ".py",
   "mimetype": "text/x-python",
   "name": "python",
   "nbconvert_exporter": "python",
   "pygments_lexer": "ipython3",
   "version": "3.12.7"
  }
 },
 "nbformat": 4,
 "nbformat_minor": 5
}
