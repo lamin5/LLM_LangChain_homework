{
 "cells": [
  {
   "cell_type": "code",
   "execution_count": 17,
   "id": "c81acca6",
   "metadata": {},
   "outputs": [],
   "source": [
    "import os\n",
    "from dotenv import load_dotenv\n",
    "from langchain_core.prompts import PromptTemplate\n",
    "from langchain_openai import ChatOpenAI \n",
    "\n",
    "load_dotenv()\n",
    "OPENAI_API_KEY = os.getenv(\"OPENAI_API_KEY\")"
   ]
  },
  {
   "cell_type": "code",
   "execution_count": 18,
   "id": "1f7cd5b5",
   "metadata": {},
   "outputs": [
    {
     "name": "stdout",
     "output_type": "stream",
     "text": [
      "client=<openai.resources.chat.completions.completions.Completions object at 0x0000024B7638EF90> async_client=<openai.resources.chat.completions.completions.AsyncCompletions object at 0x0000024B7638F9B0> root_client=<openai.OpenAI object at 0x0000024B7638E570> root_async_client=<openai.AsyncOpenAI object at 0x0000024B7638FA70> model_name='meta-llama/llama-4-scout-17b-16e-instruct' temperature=0.7 model_kwargs={} openai_api_key=SecretStr('**********') openai_api_base='https://api.groq.com/openai/v1'\n"
     ]
    }
   ],
   "source": [
    "# Groq API를 사용하는 ChatOpenAI 인스턴스 생성\n",
    "llm = ChatOpenAI(\n",
    "    #api_key=OPENAI_API_KEY,\n",
    "    base_url=\"https://api.groq.com/openai/v1\",  # Groq API 엔드포인트\n",
    "    model=\"meta-llama/llama-4-scout-17b-16e-instruct\",\n",
    "    #model=\"mistral-saba-24b\",\n",
    "    temperature=0.7\n",
    ")\n",
    "print(llm)"
   ]
  },
  {
   "cell_type": "code",
   "execution_count": 19,
   "id": "ae94d646",
   "metadata": {},
   "outputs": [
    {
     "data": {
      "text/plain": [
       "PromptTemplate(input_variables=['ingredients'], input_types={}, partial_variables={}, template='\\n    오늘은 내가 요리사!\\n    <재료 : {ingredients}\\n\\n    추천 요리와 간단한 레시피를 줘!\\n    ')"
      ]
     },
     "execution_count": 19,
     "metadata": {},
     "output_type": "execute_result"
    }
   ],
   "source": [
    "prompt = PromptTemplate.from_template(\n",
    "    \"\"\"\n",
    "    오늘은 내가 요리사!\n",
    "    <재료 : {ingredients}\n",
    "    \n",
    "    추천 요리와 간단한 레시피를 줘!\n",
    "    \"\"\")                                     \n",
    "prompt"
   ]
  },
  {
   "cell_type": "code",
   "execution_count": 20,
   "id": "fff6a127",
   "metadata": {},
   "outputs": [
    {
     "name": "stdout",
     "output_type": "stream",
     "text": [
      "<class 'langchain_core.runnables.base.RunnableSequence'>\n"
     ]
    }
   ],
   "source": [
    "# chain 연결 (LCEL) prompt + llm 연결\n",
    "chain = prompt | llm\n",
    "print(type(chain))"
   ]
  },
  {
   "cell_type": "code",
   "execution_count": 21,
   "id": "3e3f7dad",
   "metadata": {},
   "outputs": [
    {
     "name": "stdout",
     "output_type": "stream",
     "text": [
      "<class 'langchain_core.messages.ai.AIMessage'>\n",
      "오늘은 당신이 요리사!\n",
      "\n",
      "토마토, 양파, 치즈를 이용한 추천 요리와 간단한 레시피를 알려드릴게요!\n",
      "\n",
      "**토마토, 양파, 치즈를 이용한 간단한 레시피: 토마토 치즈 오믈렛**\n",
      "\n",
      "*   재료: 토마토, 양파, 치즈, 계란, 소금, 후추\n",
      "*   만드는 법: 1.  양파를 잘게 썰고, 토마토는 작은 조각으로 자릅니다. 2.  계란을 풀고 소금과 후추로 간을 합니다. 3.  팬에 기름을 두르고 양파를 볶다가 토마토를 넣고 함께 볶습니다. 4.  계란을 팬에 붓고 오믈렛 모양으로 만들어줍니다. 5.  치즈를 오믈렛 위에 올려주고, 치즈가 녹을 때까지 기다립니다. 6.  오믈렛을 반으로 접어주고, 맛있는 토마토 치즈 오믈렛이 완성됩니다!\n",
      "\n",
      "간단하지만 맛있는 토마토 치즈 오믈렛을 만들어보세요!\n"
     ]
    }
   ],
   "source": [
    "# chain 호출\n",
    "try:\n",
    "    food = \"토마토, 양파, 치즈\"\n",
    "    result = chain.invoke({\"ingredients\": food})\n",
    "    print(type(result))\n",
    "    print(result.content)\n",
    "except Exception as e:\n",
    "    print(f\"오류 발생: {e}\")"
   ]
  }
 ],
 "metadata": {
  "kernelspec": {
   "display_name": "langchain-homework-EkbqySkC-py3.12",
   "language": "python",
   "name": "python3"
  },
  "language_info": {
   "codemirror_mode": {
    "name": "ipython",
    "version": 3
   },
   "file_extension": ".py",
   "mimetype": "text/x-python",
   "name": "python",
   "nbconvert_exporter": "python",
   "pygments_lexer": "ipython3",
   "version": "3.12.7"
  }
 },
 "nbformat": 4,
 "nbformat_minor": 5
}
