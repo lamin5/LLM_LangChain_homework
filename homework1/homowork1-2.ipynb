{
 "cells": [
  {
   "cell_type": "code",
   "execution_count": 1,
   "id": "c81acca6",
   "metadata": {},
   "outputs": [],
   "source": [
    "import os\n",
    "from dotenv import load_dotenv\n",
    "from langchain_core.prompts import ChatPromptTemplate\n",
    "from langchain_openai import ChatOpenAI\n",
    "from langchain_core.output_parsers import StrOutputParser\n",
    "\n",
    "load_dotenv()\n",
    "OPENAI_API_KEY = os.getenv(\"OPENAI_API_KEY\")"
   ]
  },
  {
   "cell_type": "code",
   "execution_count": null,
   "id": "7e328783",
   "metadata": {},
   "outputs": [],
   "source": [
    "# Step 1: 사용자가 입력한 장르에 따라 영화 추천\n",
    "prompt1 = ChatPromptTemplate.from_template(\"{system} 장르를 입력받아 영화 1편 추천\")\n",
    "\n",
    "# Step 2: 추천된 영화의 줄거리를 요약\n",
    "prompt2 = ChatPromptTemplate.from_template(\"{human} 추천받은 영화의 3줄 줄거리 요약 제공\")\n",
    "\n",
    "# OpenAI 모델 사용\n",
    "llm = ChatOpenAI(\n",
    "    #api_key=OPENAI_API_KEY,\n",
    "    base_url=\"https://api.groq.com/openai/v1\",  # Groq API 엔드포인트\n",
    "    model=\"meta-llama/llama-4-scout-17b-16e-instruct\",\n",
    "    temperature=0.7\n",
    ")\n",
    "\n",
    "# 체인 1: 영화 추천 (입력: 장르 → 출력: 영화 제목)\n",
    "chain1 = prompt1 | llm | StrOutputParser()"
   ]
  },
  {
   "cell_type": "code",
   "execution_count": 3,
   "id": "dfc73c65",
   "metadata": {},
   "outputs": [
    {
     "name": "stdout",
     "output_type": "stream",
     "text": [
      "Here are the 3-line summaries for each movie:\n",
      "\n",
      "**마션 (The Martian, 2015)**\n",
      "화성에서 사고로 인해 홀로 남게 된 우주비행사 마크 와트니가 생존을 위해 고군분투합니다. 제한된 자원과 고장난 장비 속에서 그는 기지를 발휘해 생존을 모색합니다. 과연 그는 지구로 돌아갈 수 있을까요?\n",
      "\n",
      "**인디펜던스 데이 (Independence Day, 1996)**\n",
      "외계인의 침공으로 지구는 위기에 처합니다. 미국 대통령과 한 젊은 컴퓨터 해커는 외계인의 비밀을 밝혀내고 그들과 싸울 계획을 세웁니다. 인류의 운명을 건 전투가 시작됩니다.\n",
      "\n",
      "**매트릭스 (The Matrix, 1999)**\n",
      "인간은 가상 현실 세계인 매트릭스 안에서 살고 있습니다. 주인공 네오와 트리니티는 매트릭스의 비밀을 알고 현실 세계로 돌아가기 위해 싸웁니다. 인류의 자유를 위해 그들은 매트릭스를 깨뜨릴 수 있을까요?\n"
     ]
    }
   ],
   "source": [
    "# 체인 2: 줄거리 요약 (입력: 영화 제목 → 출력: 줄거리)\n",
    "try:\n",
    "    chain2 = (\n",
    "        {\"human\": chain1}  # chain1의 출력을 movie 입력 변수로 전달\n",
    "        | prompt2\n",
    "        | llm\n",
    "        | StrOutputParser()\n",
    "    )\n",
    "\n",
    "    # 실행: \"SF\" 장르의 영화 추천 및 줄거리 요약\n",
    "    response = chain2.invoke({\"system\": \"액션\"})\n",
    "    print(response)  \n",
    "except Exception as e:\n",
    "    print(f\"오류 발생: {e}\")"
   ]
  }
 ],
 "metadata": {
  "kernelspec": {
   "display_name": "langchain-homework-EkbqySkC-py3.12",
   "language": "python",
   "name": "python3"
  },
  "language_info": {
   "codemirror_mode": {
    "name": "ipython",
    "version": 3
   },
   "file_extension": ".py",
   "mimetype": "text/x-python",
   "name": "python",
   "nbconvert_exporter": "python",
   "pygments_lexer": "ipython3",
   "version": "3.12.7"
  }
 },
 "nbformat": 4,
 "nbformat_minor": 5
}
