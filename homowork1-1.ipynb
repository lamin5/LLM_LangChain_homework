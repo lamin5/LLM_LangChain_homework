{
 "cells": [
  {
   "cell_type": "code",
   "execution_count": 12,
   "id": "c81acca6",
   "metadata": {},
   "outputs": [],
   "source": [
    "import os\n",
    "from dotenv import load_dotenv\n",
    "from langchain_core.prompts import ChatPromptTemplate\n",
    "from langchain_openai import ChatOpenAI \n",
    "\n",
    "load_dotenv()\n",
    "OPENAI_API_KEY = os.getenv(\"OPENAI_API_KEY\")"
   ]
  },
  {
   "cell_type": "code",
   "execution_count": 13,
   "id": "1f7cd5b5",
   "metadata": {},
   "outputs": [
    {
     "name": "stdout",
     "output_type": "stream",
     "text": [
      "client=<openai.resources.chat.completions.completions.Completions object at 0x0000024B7638D910> async_client=<openai.resources.chat.completions.completions.AsyncCompletions object at 0x0000024B7638DB80> root_client=<openai.OpenAI object at 0x0000024B7638C4D0> root_async_client=<openai.AsyncOpenAI object at 0x0000024B7638DA60> model_name='meta-llama/llama-4-scout-17b-16e-instruct' temperature=0.7 model_kwargs={} openai_api_key=SecretStr('**********') openai_api_base='https://api.groq.com/openai/v1'\n"
     ]
    }
   ],
   "source": [
    "# Groq API를 사용하는 ChatOpenAI 인스턴스 생성\n",
    "llm = ChatOpenAI(\n",
    "    #api_key=OPENAI_API_KEY,\n",
    "    base_url=\"https://api.groq.com/openai/v1\",  # Groq API 엔드포인트\n",
    "    model=\"meta-llama/llama-4-scout-17b-16e-instruct\",\n",
    "    #model=\"mistral-saba-24b\",\n",
    "    temperature=0.7\n",
    ")\n",
    "print(llm)"
   ]
  },
  {
   "cell_type": "code",
   "execution_count": 14,
   "id": "ae94d646",
   "metadata": {},
   "outputs": [
    {
     "data": {
      "text/plain": [
       "PromptTemplate(input_variables=['ingredients'], input_types={}, partial_variables={}, template='\\n    오늘은 내가 요리사!\\n    <재료 : {ingredients}\\n\\n    추천 요리와 간단한 레시피를 줘!\\n    ')"
      ]
     },
     "execution_count": 14,
     "metadata": {},
     "output_type": "execute_result"
    }
   ],
   "source": [
    "from langchain_core.prompts import PromptTemplate\n",
    "\n",
    "prompt = PromptTemplate.from_template(\n",
    "    \"\"\"\n",
    "    오늘은 내가 요리사!\n",
    "    <재료 : {ingredients}\n",
    "    \n",
    "    추천 요리와 간단한 레시피를 줘!\n",
    "    \"\"\")                                     \n",
    "prompt"
   ]
  },
  {
   "cell_type": "code",
   "execution_count": 15,
   "id": "fff6a127",
   "metadata": {},
   "outputs": [
    {
     "name": "stdout",
     "output_type": "stream",
     "text": [
      "<class 'langchain_core.runnables.base.RunnableSequence'>\n"
     ]
    }
   ],
   "source": [
    "# chain 연결 (LCEL) prompt + llm 연결\n",
    "chain = prompt | llm\n",
    "print(type(chain))"
   ]
  },
  {
   "cell_type": "code",
   "execution_count": 16,
   "id": "3e3f7dad",
   "metadata": {},
   "outputs": [
    {
     "name": "stdout",
     "output_type": "stream",
     "text": [
      "<class 'langchain_core.messages.ai.AIMessage'>\n",
      "오늘은 내가 요리사!\n",
      "\n",
      "토마토, 양파, 치즈를 활용한 **토마토 치즈 구이** 레시피를 추천해 드릴게요!\n",
      "\n",
      "### **재료**\n",
      "\n",
      "*   토마토 2개\n",
      "*   양파 1/2개\n",
      "*   치즈 1장 (모짜렐라 치즈 또는 슈레드 치즈)\n",
      "*   올리브오일 1테이블스푼\n",
      "*   소금, 후추\n",
      "\n",
      "### **레시피**\n",
      "\n",
      "1.  **토마토와 양파 준비하기** *   토마토를 깨끗이 씻고, 줄기를 제거한 후 1cm 두께로 슬라이스합니다. *   양파를 깨끗이 씻고, 껍질을 벗긴 후 얇게 슬라이스합니다.\n",
      "2.  **팬에 기름 두르고 볶기** *   팬에 올리브오일을 두르고, 양파를 넣고 볶습니다. *   양파가 반 이상 익으면 토마토를 넣고 함께 볶습니다.\n",
      "3.  **소금, 후추로 간하기** *   소금과 후추로 간을 합니다.\n",
      "4.  **치즈 추가하기** *   토마토와 양파가 거의 익으면 팬 위에 치즈를 올려줍니다.\n",
      "5.  **치즈가 녹을 때까지 구우기** *   치즈가 녹고 황금빛이 될 때까지 구워줍니다.\n",
      "\n",
      "### **팁**\n",
      "\n",
      "*   토마토와 양파를 더 맛있게 하려면 팬에 볶을 때 마늘을 추가할 수 있습니다.\n",
      "*   치즈는 모짜렐라 치즈나 슈레드 치즈를 사용하면 더 고소하고 부드러운 맛을 낼 수 있습니다.\n",
      "\n",
      "### **완성**\n",
      "\n",
      "*   토마토 치즈 구이가 완성되면, 맛있는 식사를 즐기세요!\n"
     ]
    }
   ],
   "source": [
    "# chain 호출\n",
    "try:\n",
    "    food = \"토마토, 양파, 치즈\"\n",
    "    result = chain.invoke({\"ingredients\": food})\n",
    "    print(type(result))\n",
    "    print(result.content)\n",
    "except Exception as e:\n",
    "    print(f\"오류 발생: {e}\")"
   ]
  }
 ],
 "metadata": {
  "kernelspec": {
   "display_name": "langchain-homework-EkbqySkC-py3.12",
   "language": "python",
   "name": "python3"
  },
  "language_info": {
   "codemirror_mode": {
    "name": "ipython",
    "version": 3
   },
   "file_extension": ".py",
   "mimetype": "text/x-python",
   "name": "python",
   "nbconvert_exporter": "python",
   "pygments_lexer": "ipython3",
   "version": "3.12.7"
  }
 },
 "nbformat": 4,
 "nbformat_minor": 5
}
