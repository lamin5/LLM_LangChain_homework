{
 "cells": [
  {
   "cell_type": "code",
   "execution_count": 1,
   "id": "2ccfdafa",
   "metadata": {},
   "outputs": [
    {
     "name": "stdout",
     "output_type": "stream",
     "text": [
      "gs\n"
     ]
    }
   ],
   "source": [
    "import os\n",
    "from dotenv import load_dotenv\n",
    "\n",
    "load_dotenv()\n",
    "OPENAI_API_KEY = os.getenv(\"OPENAI_API_KEY\")\n",
    "print(OPENAI_API_KEY[:2])"
   ]
  },
  {
   "cell_type": "code",
   "execution_count": 4,
   "id": "87e88411",
   "metadata": {},
   "outputs": [
    {
     "name": "stdout",
     "output_type": "stream",
     "text": [
      "출력 형식 지시사항:\n",
      "The output should be a markdown code snippet formatted in the following schema, including the leading and trailing \"```json\" and \"```\":\n",
      "\n",
      "```json\n",
      "{\n",
      "\t\"destination\": string  // 여행지\n",
      "\t\"duration\": string  // 기간\n",
      "\t\"budget\": string  // 예산\n",
      "\t\"rating\": string  // 추천도(1~5점)\n",
      "\t\"activities\": string  // 주요 활동 리스트\n",
      "}\n",
      "```\n"
     ]
    }
   ],
   "source": [
    "from langchain_openai import ChatOpenAI\n",
    "from langchain_core.prompts import ChatPromptTemplate\n",
    "from langchain.output_parsers import StructuredOutputParser, ResponseSchema\n",
    "\n",
    "from pprint import pprint\n",
    "\n",
    "# 출력 구조 정의 (평점, 장점, 단점, 요약)\n",
    "response_schemas = [\n",
    "    ResponseSchema(name=\"destination\", description=\"여행지\"),\n",
    "    ResponseSchema(name=\"duration\", description=\"기간\"),\n",
    "    ResponseSchema(name=\"budget\", description=\"예산\"),\n",
    "    ResponseSchema(name=\"rating\", description=\"추천도(1~5점)\"),\n",
    "    ResponseSchema(name=\"activities\", description=\"주요 활동 리스트\")\n",
    "]\n",
    "\n",
    "# 파서 초기화\n",
    "parser = StructuredOutputParser.from_response_schemas(response_schemas)\n",
    "format_instructions = parser.get_format_instructions()\n",
    "\n",
    "print(\"출력 형식 지시사항:\")\n",
    "print(format_instructions)\n",
    "\n",
    "# 프롬프트 템플릿\n",
    "template = \"\"\"\n",
    "다음 여행기를 분석하세요. 여행 내용: {travel}\n",
    "\n",
    "{format_instructions}\n",
    "\"\"\"\n",
    "\n",
    "prompt = ChatPromptTemplate.from_template(template)\n",
    "prompt = prompt.partial(format_instructions=format_instructions)\n"
   ]
  },
  {
   "cell_type": "code",
   "execution_count": 5,
   "id": "12cc9b8f",
   "metadata": {},
   "outputs": [
    {
     "name": "stdout",
     "output_type": "stream",
     "text": [
      "===== 분석 결과 =====\n",
      "{'activities': '해운대 바다 구경, 자갈치시장 회 먹기, 감천문화마을 구경',\n",
      " 'budget': '30만원',\n",
      " 'destination': '부산',\n",
      " 'duration': '2박 3일',\n",
      " 'rating': '4'}\n"
     ]
    }
   ],
   "source": [
    "\n",
    "# 모델 초기화 (temperature=0.5로 설정해 일관성 있는 출력)\n",
    "#model = ChatOpenAI(temperature=0.7, model=\"gpt-3.5-turbo\")\n",
    "model = ChatOpenAI(\n",
    "    base_url=\"https://api.groq.com/openai/v1\",  # Groq API 엔드포인트\n",
    "    model=\"meta-llama/llama-4-scout-17b-16e-instruct\",\n",
    "    temperature=0.7\n",
    ")\n",
    "\n",
    "# 테스트 여향 데이터\n",
    "travel = \"\"\"\n",
    "지난 주에 부산으로 2박 3일 여행을 다녀왔어요. 총 30만원 정도 썼는데 해운대에서 바다구경하고,\n",
    "자갈치시장에서 회 먹고, 감천문화마을도 구경했어요. \n",
    "정말 만족스러운 여행이었습니다. 5점 만점에 4점 정도 줄 수 있을 것 같아요.\n",
    "\"\"\"\n",
    "\n",
    "# 체인 실행\n",
    "chain = prompt | model | parser\n",
    "\n",
    "output = chain.invoke({\"travel\": travel})\n",
    "\n",
    "# 결과 출력 (Pretty Print)\n",
    "print(\"===== 분석 결과 =====\")\n",
    "pprint(output)"
   ]
  }
 ],
 "metadata": {
  "kernelspec": {
   "display_name": "langchain-homework-EkbqySkC-py3.12",
   "language": "python",
   "name": "python3"
  },
  "language_info": {
   "codemirror_mode": {
    "name": "ipython",
    "version": 3
   },
   "file_extension": ".py",
   "mimetype": "text/x-python",
   "name": "python",
   "nbconvert_exporter": "python",
   "pygments_lexer": "ipython3",
   "version": "3.12.7"
  }
 },
 "nbformat": 4,
 "nbformat_minor": 5
}
