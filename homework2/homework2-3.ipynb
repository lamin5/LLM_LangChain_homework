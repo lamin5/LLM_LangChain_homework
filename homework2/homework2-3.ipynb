{
 "cells": [
  {
   "cell_type": "code",
   "execution_count": 1,
   "id": "30b8b316",
   "metadata": {},
   "outputs": [
    {
     "name": "stdout",
     "output_type": "stream",
     "text": [
      "gs\n"
     ]
    }
   ],
   "source": [
    "import os\n",
    "from dotenv import load_dotenv\n",
    "\n",
    "load_dotenv()\n",
    "OPENAI_API_KEY = os.getenv(\"OPENAI_API_KEY\")\n",
    "print(OPENAI_API_KEY[:2])"
   ]
  },
  {
   "cell_type": "code",
   "execution_count": 14,
   "id": "bb6d709d",
   "metadata": {},
   "outputs": [],
   "source": [
    "# poetry add pydantic\n",
    "# %pip install pydantic \n",
    "\n",
    "from langchain_core.prompts import ChatPromptTemplate\n",
    "from langchain.output_parsers import PydanticOutputParser\n",
    "from langchain_openai import ChatOpenAI\n",
    "from pydantic import BaseModel, Field\n",
    "from typing import List"
   ]
  },
  {
   "cell_type": "code",
   "execution_count": 16,
   "id": "63e19fd8",
   "metadata": {},
   "outputs": [
    {
     "name": "stdout",
     "output_type": "stream",
     "text": [
      "input_variables=['query'] input_types={} partial_variables={'format_instructions': 'The output should be formatted as a JSON instance that conforms to the JSON schema below.\\n\\nAs an example, for the schema {\"properties\": {\"foo\": {\"title\": \"Foo\", \"description\": \"a list of strings\", \"type\": \"array\", \"items\": {\"type\": \"string\"}}}, \"required\": [\"foo\"]}\\nthe object {\"foo\": [\"bar\", \"baz\"]} is a well-formatted instance of the schema. The object {\"properties\": {\"foo\": [\"bar\", \"baz\"]}} is not well-formatted.\\n\\nHere is the output schema:\\n```\\n{\"properties\": {\"name\": {\"description\": \"이름\", \"title\": \"Name\", \"type\": \"string\"}, \"age\": {\"description\": \"나이\", \"title\": \"Age\", \"type\": \"integer\"}, \"major\": {\"description\": \"전공\", \"title\": \"Major\", \"type\": \"string\"}, \"hobbies\": {\"description\": \"취미 리스트\", \"items\": {\"type\": \"string\"}, \"title\": \"Hobbies\", \"type\": \"array\"}, \"goal\": {\"description\": \"목표\", \"title\": \"Goal\", \"type\": \"string\"}}, \"required\": [\"name\", \"age\", \"major\", \"hobbies\", \"goal\"]}\\n```'} messages=[HumanMessagePromptTemplate(prompt=PromptTemplate(input_variables=['format_instructions', 'query'], input_types={}, partial_variables={}, template='\\n다음 사용자 요청에 따라 자기소개를 받아 출력해주세요.\\n요청: {query}\\n\\n{format_instructions}\\n'), additional_kwargs={})]\n"
     ]
    }
   ],
   "source": [
    "# 출력 구조를 정의하는 Pydantic 모델\n",
    "class MovieRecommendation(BaseModel):\n",
    "    name: str = Field(description=\"이름\")\n",
    "    age: int = Field(description=\"나이\")\n",
    "    major: str = Field(description=\"전공\")\n",
    "    hobbies: List[str] = Field(description=\"취미 리스트\")\n",
    "    goal: str = Field(description=\"목표\")\n",
    "    \n",
    "# Pydantic 출력 파서 초기화\n",
    "parser = PydanticOutputParser(pydantic_object=MovieRecommendation)\n",
    "\n",
    "# 프롬프트 템플릿 설정\n",
    "template = \"\"\"\n",
    "다음 사용자 요청에 따라 자기소개를 받아 출력해주세요.\n",
    "요청: {query}\n",
    "\n",
    "{format_instructions}\n",
    "\"\"\"\n",
    "\n",
    "prompt = ChatPromptTemplate.from_template(template)\n",
    "\n",
    "# 파서의 지시사항을 프롬프트에 주입\n",
    "prompt = prompt.partial(\n",
    "    format_instructions=parser.get_format_instructions()\n",
    ")\n",
    "print(prompt)"
   ]
  },
  {
   "cell_type": "code",
   "execution_count": 19,
   "id": "ac2524a0",
   "metadata": {},
   "outputs": [
    {
     "name": "stdout",
     "output_type": "stream",
     "text": [
      "name: 김민수\n",
      "age: 22\n",
      "major: 컴퓨터공학\n",
      "hobbies: 게임하기, 영화보기, 코딩\n",
      "목표: 훌륭한 개발자가 되는 것\n"
     ]
    }
   ],
   "source": [
    "\n",
    "# ChatOpenAI 모델 초기화\n",
    "# model = ChatOpenAI(temperature=0.7, model=\"gpt-3.5-turbo\")\n",
    "model = ChatOpenAI(\n",
    "    base_url=\"https://api.groq.com/openai/v1\",  # Groq API 엔드포인트\n",
    "    model=\"meta-llama/llama-4-scout-17b-16e-instruct\",\n",
    "    temperature=0.7\n",
    ")\n",
    "\n",
    "# 체인 구성 및 실행\n",
    "query = \"안녕하세요! 저는 김민수이고 22살입니다. 컴퓨터공학을 전공하고 있어요. 취미로는 게임하기, 영화보기, 코딩을 좋아합니다. 앞으로 훌륭한 개발자가 되는 것이 목표입니다.\"\n",
    "chain = prompt | model | parser\n",
    "output = chain.invoke({\"query\": query})\n",
    "\n",
    "# 결과 출력\n",
    "print(f\"name: {output.name}\")\n",
    "print(f\"age: {output.age}\")\n",
    "print(f\"major: {(output.major)}\")\n",
    "print(f\"hobbies: {', '.join(output.hobbies)}\")\n",
    "print(f\"목표: {output.goal}\")"
   ]
  }
 ],
 "metadata": {
  "kernelspec": {
   "display_name": "langchain-homework-EkbqySkC-py3.12",
   "language": "python",
   "name": "python3"
  },
  "language_info": {
   "codemirror_mode": {
    "name": "ipython",
    "version": 3
   },
   "file_extension": ".py",
   "mimetype": "text/x-python",
   "name": "python",
   "nbconvert_exporter": "python",
   "pygments_lexer": "ipython3",
   "version": "3.12.7"
  }
 },
 "nbformat": 4,
 "nbformat_minor": 5
}
